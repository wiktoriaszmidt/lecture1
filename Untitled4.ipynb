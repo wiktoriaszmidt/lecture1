{
  "nbformat": 4,
  "nbformat_minor": 0,
  "metadata": {
    "colab": {
      "provenance": [],
      "authorship_tag": "ABX9TyPOm7XDhk/f4ahKE2UEIUyO",
      "include_colab_link": true
    },
    "kernelspec": {
      "name": "python3",
      "display_name": "Python 3"
    },
    "language_info": {
      "name": "python"
    }
  },
  "cells": [
    {
      "cell_type": "markdown",
      "metadata": {
        "id": "view-in-github",
        "colab_type": "text"
      },
      "source": [
        "<a href=\"https://colab.research.google.com/github/wiktoriaszmidt/lecture1/blob/wiktoriaszmidt-patch-1/Untitled4.ipynb\" target=\"_parent\"><img src=\"https://colab.research.google.com/assets/colab-badge.svg\" alt=\"Open In Colab\"/></a>"
      ]
    },
    {
      "cell_type": "code",
      "execution_count": 1,
      "metadata": {
        "colab": {
          "base_uri": "https://localhost:8080/"
        },
        "id": "xDXn_WkOA-vF",
        "outputId": "e3434cfc-de56-485c-ef53-154ea2d52ed9"
      },
      "outputs": [
        {
          "output_type": "stream",
          "name": "stdout",
          "text": [
            "\u001b[2K     \u001b[90m━━━━━━━━━━━━━━━━━━━━━━━━━━━━━━━━━━━━━━━\u001b[0m \u001b[32m317.4/317.4 MB\u001b[0m \u001b[31m4.4 MB/s\u001b[0m eta \u001b[36m0:00:00\u001b[0m\n",
            "\u001b[?25h  Preparing metadata (setup.py) ... \u001b[?25l\u001b[?25hdone\n",
            "  Building wheel for pyspark (setup.py) ... \u001b[?25l\u001b[?25hdone\n"
          ]
        }
      ],
      "source": [
        "# Ustaw wersję jako parametr\n",
        "SPARK_VERSION=\"3.5.6\"\n",
        "\n",
        "# Instalacja OpenJDK 8\n",
        "!apt-get install openjdk-8-jdk-headless -qq > /dev/null\n",
        "\n",
        "# Pobranie Apache Spark z określoną wersją\n",
        "!wget -q http://www.apache.org/dist/spark/spark-$SPARK_VERSION/spark-$SPARK_VERSION-bin-hadoop3.tgz\n",
        "\n",
        "# Rozpakowanie archiwum Spark\n",
        "!tar xf spark-$SPARK_VERSION-bin-hadoop3.tgz\n",
        "\n",
        "# Instalacja findspark i pyspark\n",
        "!pip install -q findspark==1.3.0\n",
        "!pip install -q pyspark==$SPARK_VERSION\n",
        "\n",
        "# Ustalamy zmienne środowiskowe.\n",
        "import os\n",
        "os.environ[\"JAVA_HOME\"] = \"/usr/lib/jvm/java-8-openjdk-amd64\"\n",
        "os.environ[\"SPARK_HOME\"] = f\"/content/spark-{SPARK_VERSION}-bin-hadoop3\""
      ]
    },
    {
      "cell_type": "code",
      "source": [
        "import findspark\n",
        "import pyspark\n",
        "from pyspark.sql import SparkSession\n",
        "from pyspark import SparkContext\n",
        "\n",
        "findspark.init(f\"spark-{SPARK_VERSION}-bin-hadoop3\")\n",
        "sc = pyspark.SparkContext('local[*]')\n",
        "spark = SparkSession.builder.appName('abc').getOrCreate()"
      ],
      "metadata": {
        "id": "8MOZgcx1BBIK"
      },
      "execution_count": 2,
      "outputs": []
    },
    {
      "cell_type": "markdown",
      "source": [
        "CATEGORY"
      ],
      "metadata": {
        "id": "-p9jIdBMEizh"
      }
    },
    {
      "cell_type": "code",
      "source": [
        "from pyspark.sql import SparkSession"
      ],
      "metadata": {
        "id": "yiGcEjx6H9oN"
      },
      "execution_count": 33,
      "outputs": []
    },
    {
      "cell_type": "code",
      "source": [
        "from pyspark.sql.functions import *"
      ],
      "metadata": {
        "id": "CmK2y4bTBzBN"
      },
      "execution_count": 34,
      "outputs": []
    },
    {
      "cell_type": "code",
      "source": [
        "# Utwórz sesję Spark\n",
        "spark = SparkSession.builder.appName(\"Zadanie2\").getOrCreate()"
      ],
      "metadata": {
        "id": "ACpYCexAIl8I"
      },
      "execution_count": 43,
      "outputs": []
    },
    {
      "cell_type": "code",
      "source": [
        "from pyspark.sql.types import *\n",
        "\n",
        "schema_category = StructType([\n",
        "    StructField(\"ProductName\", StringType(), True),\n",
        "    StructField(\"DateFrom\", StringType(), True),\n",
        "    StructField(\"DateTo\", StringType(), True),\n",
        "    StructField(\"Margin group\", StringType(), True),\n",
        "    StructField(\"Price\", DecimalType(10, 2), True)\n",
        "])"
      ],
      "metadata": {
        "id": "P9aw3HQPDccK"
      },
      "execution_count": 44,
      "outputs": []
    },
    {
      "cell_type": "code",
      "source": [
        "df = spark.read.option(\"header\", True)\\\n",
        "         .option(\"sep\", \";\")\\\n",
        "         .option(\"locale\", \"pl-PL\")\\\n",
        "         .schema(schema_category)\\\n",
        "         .csv(\"Category.csv\")"
      ],
      "metadata": {
        "id": "2WNO6MlcDWV5"
      },
      "execution_count": 45,
      "outputs": []
    },
    {
      "cell_type": "code",
      "source": [
        "df.createOrReplaceTempView('Category')"
      ],
      "metadata": {
        "id": "bKpIZ7uTEg94"
      },
      "execution_count": 46,
      "outputs": []
    },
    {
      "cell_type": "code",
      "source": [
        "df.printSchema()"
      ],
      "metadata": {
        "colab": {
          "base_uri": "https://localhost:8080/"
        },
        "collapsed": true,
        "id": "vClXbdpNE8da",
        "outputId": "59b40e64-af85-4f7d-9b2b-7bacd6c37e8e"
      },
      "execution_count": 47,
      "outputs": [
        {
          "output_type": "stream",
          "name": "stdout",
          "text": [
            "root\n",
            " |-- ProductName: string (nullable = true)\n",
            " |-- DateFrom: string (nullable = true)\n",
            " |-- DateTo: string (nullable = true)\n",
            " |-- Margin group: string (nullable = true)\n",
            " |-- Price: decimal(10,2) (nullable = true)\n",
            "\n"
          ]
        }
      ]
    },
    {
      "cell_type": "code",
      "source": [
        "df.show(20)"
      ],
      "metadata": {
        "colab": {
          "base_uri": "https://localhost:8080/"
        },
        "id": "9yfdZVZCF9I3",
        "outputId": "b18bf78a-bab3-402e-bdad-907f27112e67"
      },
      "execution_count": 48,
      "outputs": [
        {
          "output_type": "stream",
          "name": "stdout",
          "text": [
            "+--------------+----------+----------+------------+------+\n",
            "|   ProductName|  DateFrom|    DateTo|Margin group| Price|\n",
            "+--------------+----------+----------+------------+------+\n",
            "|    Smartphone|11.06.2025|28.06.2025|           A|703.73|\n",
            "|    Smartphone|29.06.2025|31.12.2027|           A|781.06|\n",
            "|        Laptop|01.01.2024|31.12.2027|           A|296.77|\n",
            "|        Tablet|01.01.2024|31.12.2027|           A|452.63|\n",
            "|    Headphones|01.01.2024|31.12.2027|           B|892.83|\n",
            "|    Smartwatch|01.01.2024|31.12.2027|           B|710.84|\n",
            "|       T-Shirt|01.01.2024|31.12.2027|           B|376.23|\n",
            "|         Jeans|01.01.2024|31.12.2027|           C|885.08|\n",
            "|        Jacket|01.01.2024|31.12.2027|           C|518.97|\n",
            "|      Sneakers|01.01.2024|31.12.2027|           C| 80.16|\n",
            "|           Hat|01.01.2024|31.12.2027|           C|994.57|\n",
            "|  Coffee Maker|01.01.2024|31.12.2027|           C|234.25|\n",
            "|Vacuum Cleaner|01.01.2024|31.12.2027|           C|740.51|\n",
            "|       Blender|01.01.2024|31.12.2027|           C|257.93|\n",
            "|     Microwave|01.01.2024|31.12.2027|           C|299.73|\n",
            "|  Air Purifier|01.01.2024|31.12.2027|           C|730.79|\n",
            "|      Football|01.01.2024|31.12.2027|           C|373.82|\n",
            "| Tennis Racket|01.01.2024|31.12.2027|           C|556.97|\n",
            "|      Yoga Mat|01.01.2024|31.12.2027|           C| 13.91|\n",
            "|     Dumbbells|01.01.2024|31.12.2027|           C|717.08|\n",
            "+--------------+----------+----------+------------+------+\n",
            "only showing top 20 rows\n",
            "\n"
          ]
        }
      ]
    },
    {
      "cell_type": "code",
      "source": [
        "# utworz tabele ktora pogrupuje te same kategorie z margin group\n",
        "\n",
        "df_grouped = df.groupBy(\"Margin group\").agg(collect_list(\"ProductName\").alias(\"Products\"))\n",
        "df_grouped.show(20)"
      ],
      "metadata": {
        "colab": {
          "base_uri": "https://localhost:8080/"
        },
        "id": "0ItNwXnlFcda",
        "outputId": "580d515f-9858-46eb-a5c2-6319fe0987b3"
      },
      "execution_count": 49,
      "outputs": [
        {
          "output_type": "stream",
          "name": "stdout",
          "text": [
            "+------------+--------------------+\n",
            "|Margin group|            Products|\n",
            "+------------+--------------------+\n",
            "|           B|[Headphones, Smar...|\n",
            "|           C|[Jeans, Jacket, S...|\n",
            "|           A|[Smartphone, Smar...|\n",
            "+------------+--------------------+\n",
            "\n"
          ]
        }
      ]
    },
    {
      "cell_type": "markdown",
      "source": [
        "Zadanie 2:\n",
        "Cel: Oblicz sumę i średnią marży (Margin group) dla każdego produktu (ProductName).\n",
        "\n",
        "Opis: Dla każdego produktu oblicz:\n",
        "\n",
        "\n",
        "sumę marży,\n",
        "\n",
        "średnią marży."
      ],
      "metadata": {
        "id": "Zfk5xGMKHXdv"
      }
    },
    {
      "cell_type": "code",
      "source": [
        "df_product_margin = df.groupBy(\"ProductName\").agg(\n",
        "    sum(\"Price\").alias(\"SumMargin\"),\n",
        "    avg(\"Price\").alias(\"AverageMargin\")\n",
        ")\n",
        "\n",
        "df_product_margin.show()"
      ],
      "metadata": {
        "colab": {
          "base_uri": "https://localhost:8080/"
        },
        "id": "O4aN86tIJWPv",
        "outputId": "8871dd02-5e80-47bf-cd84-36e6b36c2ed1"
      },
      "execution_count": 53,
      "outputs": [
        {
          "output_type": "stream",
          "name": "stdout",
          "text": [
            "+--------------+---------+-------------+\n",
            "|   ProductName|SumMargin|AverageMargin|\n",
            "+--------------+---------+-------------+\n",
            "|        Jacket|   518.97|   518.970000|\n",
            "|      Sneakers|    80.16|    80.160000|\n",
            "|  Air Purifier|   730.79|   730.790000|\n",
            "|Cycling Helmet|   237.61|   237.610000|\n",
            "|           Hat|   994.57|   994.570000|\n",
            "|    Smartwatch|   710.84|   710.840000|\n",
            "|        Laptop|   296.77|   296.770000|\n",
            "|     Microwave|   299.73|   299.730000|\n",
            "|       T-Shirt|   376.23|   376.230000|\n",
            "|       Blender|   257.93|   257.930000|\n",
            "|Vacuum Cleaner|   740.51|   740.510000|\n",
            "|  Coffee Maker|   234.25|   234.250000|\n",
            "|      Yoga Mat|    13.91|    13.910000|\n",
            "|        Tablet|   452.63|   452.630000|\n",
            "| Tennis Racket|   556.97|   556.970000|\n",
            "|     Dumbbells|   717.08|   717.080000|\n",
            "|    Smartphone|  1484.79|   742.395000|\n",
            "|      Football|   373.82|   373.820000|\n",
            "|         Jeans|   885.08|   885.080000|\n",
            "|    Headphones|   892.83|   892.830000|\n",
            "+--------------+---------+-------------+\n",
            "\n"
          ]
        }
      ]
    },
    {
      "cell_type": "code",
      "source": [
        "# prompt: dodaj nowa kolumne ktora obliczy roznice miedzy datefrom a dateto\n",
        "\n",
        "df = df.withColumn(\"DateFrom\", to_date(col(\"DateFrom\"), \"dd.MM.yyyy\"))\n",
        "df = df.withColumn(\"DateTo\", to_date(col(\"DateTo\"), \"dd.MM.yyyy\"))\n",
        "df = df.withColumn(\"DifferenceInDays\", datediff(col(\"DateTo\"), col(\"DateFrom\")))\n",
        "\n",
        "df.show()"
      ],
      "metadata": {
        "colab": {
          "base_uri": "https://localhost:8080/"
        },
        "id": "rFyLFNIrJowQ",
        "outputId": "9935e814-bc70-438b-a78d-ca6e82d9db8a"
      },
      "execution_count": 54,
      "outputs": [
        {
          "output_type": "stream",
          "name": "stdout",
          "text": [
            "+--------------+----------+----------+------------+------+----------------+\n",
            "|   ProductName|  DateFrom|    DateTo|Margin group| Price|DifferenceInDays|\n",
            "+--------------+----------+----------+------------+------+----------------+\n",
            "|    Smartphone|2025-06-11|2025-06-28|           A|703.73|              17|\n",
            "|    Smartphone|2025-06-29|2027-12-31|           A|781.06|             915|\n",
            "|        Laptop|2024-01-01|2027-12-31|           A|296.77|            1460|\n",
            "|        Tablet|2024-01-01|2027-12-31|           A|452.63|            1460|\n",
            "|    Headphones|2024-01-01|2027-12-31|           B|892.83|            1460|\n",
            "|    Smartwatch|2024-01-01|2027-12-31|           B|710.84|            1460|\n",
            "|       T-Shirt|2024-01-01|2027-12-31|           B|376.23|            1460|\n",
            "|         Jeans|2024-01-01|2027-12-31|           C|885.08|            1460|\n",
            "|        Jacket|2024-01-01|2027-12-31|           C|518.97|            1460|\n",
            "|      Sneakers|2024-01-01|2027-12-31|           C| 80.16|            1460|\n",
            "|           Hat|2024-01-01|2027-12-31|           C|994.57|            1460|\n",
            "|  Coffee Maker|2024-01-01|2027-12-31|           C|234.25|            1460|\n",
            "|Vacuum Cleaner|2024-01-01|2027-12-31|           C|740.51|            1460|\n",
            "|       Blender|2024-01-01|2027-12-31|           C|257.93|            1460|\n",
            "|     Microwave|2024-01-01|2027-12-31|           C|299.73|            1460|\n",
            "|  Air Purifier|2024-01-01|2027-12-31|           C|730.79|            1460|\n",
            "|      Football|2024-01-01|2027-12-31|           C|373.82|            1460|\n",
            "| Tennis Racket|2024-01-01|2027-12-31|           C|556.97|            1460|\n",
            "|      Yoga Mat|2024-01-01|2027-12-31|           C| 13.91|            1460|\n",
            "|     Dumbbells|2024-01-01|2027-12-31|           C|717.08|            1460|\n",
            "+--------------+----------+----------+------------+------+----------------+\n",
            "only showing top 20 rows\n",
            "\n"
          ]
        }
      ]
    },
    {
      "cell_type": "markdown",
      "source": [
        "sales_20_products_50_days"
      ],
      "metadata": {
        "id": "eZhZc_qPKIPo"
      }
    },
    {
      "cell_type": "code",
      "source": [
        "from pyspark.sql import SparkSession\n",
        "from pyspark.sql.functions import *"
      ],
      "metadata": {
        "id": "FbtZ00ZKKLyN"
      },
      "execution_count": 55,
      "outputs": []
    },
    {
      "cell_type": "code",
      "source": [
        "# Utwórz sesję Spark\n",
        "spark = SparkSession.builder.appName(\"sales\").getOrCreate()"
      ],
      "metadata": {
        "id": "S-ZbvZKzKa02"
      },
      "execution_count": 56,
      "outputs": []
    },
    {
      "cell_type": "code",
      "source": [
        "df = spark.read.csv(\"sales_20_products_50_days.csv\", header=True, inferSchema=True, sep=\";\")"
      ],
      "metadata": {
        "id": "Em1gfIaWKgQ_"
      },
      "execution_count": 57,
      "outputs": []
    },
    {
      "cell_type": "code",
      "source": [
        "df.printSchema()"
      ],
      "metadata": {
        "colab": {
          "base_uri": "https://localhost:8080/"
        },
        "id": "YZobR-9MKpr9",
        "outputId": "3b80ffb7-499c-4c2f-9171-ab74c324d373"
      },
      "execution_count": 59,
      "outputs": [
        {
          "output_type": "stream",
          "name": "stdout",
          "text": [
            "root\n",
            " |-- ProductID: integer (nullable = true)\n",
            " |-- ProductName: string (nullable = true)\n",
            " |-- Date: date (nullable = true)\n",
            " |-- UnitsSold: integer (nullable = true)\n",
            "\n"
          ]
        }
      ]
    },
    {
      "cell_type": "code",
      "source": [
        "new_schema =  StructType([\n",
        "    StructField(\"ProductID\", IntegerType(), True),\n",
        "    StructField(\"ProductName\", StringType(), True),\n",
        "    StructField(\"Date\", StringType(), True),\n",
        "    StructField(\"UnitsSold\", StringType(), True)\n",
        "])"
      ],
      "metadata": {
        "id": "par9hSezK86N"
      },
      "execution_count": 60,
      "outputs": []
    },
    {
      "cell_type": "code",
      "source": [
        "df = spark.read.csv(\"sales_20_products_50_days.csv\", header=True, schema=new_schema, sep=\";\")"
      ],
      "metadata": {
        "id": "FnYK-clnLkvY"
      },
      "execution_count": 61,
      "outputs": []
    },
    {
      "cell_type": "code",
      "source": [
        "df.show()"
      ],
      "metadata": {
        "colab": {
          "base_uri": "https://localhost:8080/"
        },
        "id": "pFT40CAFL8Sk",
        "outputId": "88764674-7382-43cc-8241-d8d1fe53c82f"
      },
      "execution_count": 62,
      "outputs": [
        {
          "output_type": "stream",
          "name": "stdout",
          "text": [
            "+---------+-----------+----------+---------+\n",
            "|ProductID|ProductName|      Date|UnitsSold|\n",
            "+---------+-----------+----------+---------+\n",
            "|        1| Smartphone|2025-06-11|       52|\n",
            "|        1| Smartphone|2025-06-12|       93|\n",
            "|        1| Smartphone|2025-06-13|       15|\n",
            "|        1| Smartphone|2025-06-14|       72|\n",
            "|        1| Smartphone|2025-06-15|       61|\n",
            "|        1| Smartphone|2025-06-16|       21|\n",
            "|        1| Smartphone|2025-06-17|       83|\n",
            "|        1| Smartphone|2025-06-18|       87|\n",
            "|        1| Smartphone|2025-06-19|       75|\n",
            "|        1| Smartphone|2025-06-20|       75|\n",
            "|        1| Smartphone|2025-06-21|       88|\n",
            "|        1| Smartphone|2025-06-22|      100|\n",
            "|        1| Smartphone|2025-06-23|       24|\n",
            "|        1| Smartphone|2025-06-24|        3|\n",
            "|        1| Smartphone|2025-06-25|       22|\n",
            "|        1| Smartphone|2025-06-26|       53|\n",
            "|        1| Smartphone|2025-06-27|        2|\n",
            "|        1| Smartphone|2025-06-28|       88|\n",
            "|        1| Smartphone|2025-06-29|       30|\n",
            "|        1| Smartphone|2025-06-30|       38|\n",
            "+---------+-----------+----------+---------+\n",
            "only showing top 20 rows\n",
            "\n"
          ]
        }
      ]
    },
    {
      "cell_type": "code",
      "source": [
        "#pogrupuj produkty wedlug ID\n",
        "\n",
        "df.groupBy(\"ProductID\").agg(\n",
        "    collect_list(\"ProductName\").alias(\"Products\")\n",
        ").show()"
      ],
      "metadata": {
        "colab": {
          "base_uri": "https://localhost:8080/"
        },
        "id": "7qi8r5HtMw2P",
        "outputId": "30a6cdf7-6f8a-4be3-d741-83779aca3187"
      },
      "execution_count": 63,
      "outputs": [
        {
          "output_type": "stream",
          "name": "stdout",
          "text": [
            "+---------+--------------------+\n",
            "|ProductID|            Products|\n",
            "+---------+--------------------+\n",
            "|       12|[Vacuum Cleaner, ...|\n",
            "|        1|[Smartphone, Smar...|\n",
            "|       13|[Blender, Blender...|\n",
            "|        6|[T-Shirt, T-Shirt...|\n",
            "|       16|[Football, Footba...|\n",
            "|        3|[Tablet, Tablet, ...|\n",
            "|       20|[Cycling Helmet, ...|\n",
            "|        5|[Smartwatch, Smar...|\n",
            "|       19|[Dumbbells, Dumbb...|\n",
            "|       15|[Air Purifier, Ai...|\n",
            "|        9|[Sneakers, Sneake...|\n",
            "|       17|[Tennis Racket, T...|\n",
            "|        4|[Headphones, Head...|\n",
            "|        8|[Jacket, Jacket, ...|\n",
            "|        7|[Jeans, Jeans, Je...|\n",
            "|       10|[Hat, Hat, Hat, H...|\n",
            "|       11|[Coffee Maker, Co...|\n",
            "|       14|[Microwave, Micro...|\n",
            "|        2|[Laptop, Laptop, ...|\n",
            "|       18|[Yoga Mat, Yoga M...|\n",
            "+---------+--------------------+\n",
            "\n"
          ]
        }
      ]
    },
    {
      "cell_type": "code",
      "source": [
        "#dodaj kolumne sumy poszczegolnych produktow\n",
        "\n",
        "df = df.withColumn(\"UnitsSold\", col(\"UnitsSold\").cast(IntegerType()))\n",
        "df_sum_products = df.groupBy(\"ProductName\").agg(sum(\"UnitsSold\").alias(\"TotalUnitsSold\"))\n",
        "df_sum_products.show()"
      ],
      "metadata": {
        "colab": {
          "base_uri": "https://localhost:8080/"
        },
        "id": "y345A_YhM-IT",
        "outputId": "28975a4f-4ffd-415b-8a4c-0107718a6bfa"
      },
      "execution_count": 64,
      "outputs": [
        {
          "output_type": "stream",
          "name": "stdout",
          "text": [
            "+--------------+--------------+\n",
            "|   ProductName|TotalUnitsSold|\n",
            "+--------------+--------------+\n",
            "|        Jacket|          2757|\n",
            "|      Sneakers|          2402|\n",
            "|  Air Purifier|          2301|\n",
            "|Cycling Helmet|          2417|\n",
            "|           Hat|          2430|\n",
            "|    Smartwatch|          2583|\n",
            "|        Laptop|          2562|\n",
            "|     Microwave|          2322|\n",
            "|       T-Shirt|          2383|\n",
            "|       Blender|          2625|\n",
            "|Vacuum Cleaner|          2512|\n",
            "|  Coffee Maker|          2705|\n",
            "|      Yoga Mat|          2811|\n",
            "|        Tablet|          2310|\n",
            "| Tennis Racket|          2527|\n",
            "|     Dumbbells|          2451|\n",
            "|    Smartphone|          2592|\n",
            "|      Football|          2520|\n",
            "|         Jeans|          2380|\n",
            "|    Headphones|          2538|\n",
            "+--------------+--------------+\n",
            "\n"
          ]
        }
      ]
    },
    {
      "cell_type": "markdown",
      "source": [
        "Stairway to heaven"
      ],
      "metadata": {
        "id": "jhYlR5qHNVOn"
      }
    },
    {
      "cell_type": "code",
      "source": [
        "#dataframe\n",
        "from pyspark.sql.functions import col, explode, split, substring, length, lower\n",
        "lines = sc.textFile(\"Stairway to heaven.txt\")"
      ],
      "metadata": {
        "id": "ngKAhyFANW6k"
      },
      "execution_count": 70,
      "outputs": []
    },
    {
      "cell_type": "code",
      "source": [
        "result = (lines\n",
        "          .flatMap(lambda line: line.split())\n",
        "          .map(lambda word: word.upper())\n",
        "          .map(lambda word: (word, 1))\n",
        "          .reduceByKey(lambda x, y: x + y)\n",
        "          .collect())\n",
        "\n",
        "result"
      ],
      "metadata": {
        "colab": {
          "base_uri": "https://localhost:8080/"
        },
        "collapsed": true,
        "id": "xSvGS8h5Nj0k",
        "outputId": "d464bf1e-501e-46ac-c824-4b6d2af1eb9f"
      },
      "execution_count": 76,
      "outputs": [
        {
          "output_type": "execute_result",
          "data": {
            "text/plain": [
              "[('A', 14),\n",
              " ('SURE', 2),\n",
              " ('THAT', 2),\n",
              " ('GLITTERS', 1),\n",
              " ('GOLD', 2),\n",
              " (\"SHE'S\", 3),\n",
              " ('BUYING', 3),\n",
              " ('HEAVEN', 3),\n",
              " ('WHEN', 3),\n",
              " ('SHE', 5),\n",
              " ('GETS', 1),\n",
              " ('STORES', 1),\n",
              " ('CLOSED', 1),\n",
              " ('CAN', 3),\n",
              " ('WHAT', 1),\n",
              " ('FOR', 4),\n",
              " ('OOH,', 6),\n",
              " ('SIGN', 1),\n",
              " ('ON', 4),\n",
              " ('BUT', 2),\n",
              " ('WANTS', 2),\n",
              " ('YOU', 8),\n",
              " ('KNOW', 4),\n",
              " ('WORDS', 1),\n",
              " ('TWO', 2),\n",
              " ('MEANINGS', 1),\n",
              " ('IN', 5),\n",
              " ('TREE', 1),\n",
              " ('BY', 1),\n",
              " ('BROOK,', 1),\n",
              " ('SONGBIRD', 1),\n",
              " ('OUR', 3),\n",
              " ('THOUGHTS', 2),\n",
              " ('MISGIVEN', 1),\n",
              " ('IT', 4),\n",
              " ('WONDER', 5),\n",
              " ('FEELING', 1),\n",
              " ('I', 3),\n",
              " ('WEST', 1),\n",
              " ('MY', 2),\n",
              " ('LEAVING', 1),\n",
              " ('SMOKE', 1),\n",
              " ('THROUGH', 1),\n",
              " ('TREES', 1),\n",
              " ('THOSE', 2),\n",
              " ('LOOKING', 1),\n",
              " ('WHISPERED', 1),\n",
              " ('WE', 3),\n",
              " ('CALL', 1),\n",
              " ('TUNE', 2),\n",
              " ('WILL', 4),\n",
              " ('LEAD', 1),\n",
              " ('REASON', 1),\n",
              " ('DAY', 1),\n",
              " ('LONG', 2),\n",
              " ('ECHO', 1),\n",
              " ('BUSTLE', 1),\n",
              " (\"DON'T\", 2),\n",
              " ('NOW', 1),\n",
              " ('JUST', 1),\n",
              " ('SPRING', 1),\n",
              " ('MAY', 1),\n",
              " ('PATHS', 1),\n",
              " ('GO', 1),\n",
              " ('RUN', 1),\n",
              " ('STILL', 2),\n",
              " ('TIME', 1),\n",
              " ('ROAD', 2),\n",
              " (\"YOU'RE\", 1),\n",
              " ('HEAD', 1),\n",
              " (\"WON'T\", 1),\n",
              " ('CASE', 1),\n",
              " ('HIM', 1),\n",
              " ('LADY,', 1),\n",
              " ('WIND', 2),\n",
              " ('DID', 1),\n",
              " ('LIES', 1),\n",
              " ('WIND?', 1),\n",
              " ('DOWN', 1),\n",
              " ('SHADOWS', 1),\n",
              " ('TALLER', 1),\n",
              " ('THAN', 1),\n",
              " ('WALKS', 1),\n",
              " ('SHINES', 1),\n",
              " ('VERY', 1),\n",
              " ('AT', 1),\n",
              " ('ONE,', 1),\n",
              " ('ROLL', 1),\n",
              " (\"THERE'S\", 6),\n",
              " ('LADY', 2),\n",
              " (\"WHO'S\", 1),\n",
              " ('ALL', 7),\n",
              " ('IS', 4),\n",
              " ('AND', 16),\n",
              " ('STAIRWAY', 4),\n",
              " ('TO', 13),\n",
              " ('THERE', 3),\n",
              " ('KNOWS,', 1),\n",
              " ('IF', 4),\n",
              " ('THE', 17),\n",
              " ('ARE', 4),\n",
              " ('WITH', 2),\n",
              " ('WORD', 1),\n",
              " ('GET', 2),\n",
              " ('CAME', 1),\n",
              " ('WALL,', 1),\n",
              " ('BE', 3),\n",
              " (\"'CAUSE\", 1),\n",
              " ('SOMETIMES', 2),\n",
              " ('HAVE', 2),\n",
              " ('WHO', 4),\n",
              " ('SINGS', 1),\n",
              " ('OF', 3),\n",
              " ('MAKES', 5),\n",
              " ('ME', 5),\n",
              " ('LOOK', 1),\n",
              " ('SPIRIT', 1),\n",
              " ('CRYING', 1),\n",
              " ('SEEN', 1),\n",
              " ('RINGS', 1),\n",
              " ('VOICES', 1),\n",
              " ('STAND', 2),\n",
              " ('REALLY', 1),\n",
              " (\"IT'S\", 2),\n",
              " ('SOON', 1),\n",
              " ('THEN', 1),\n",
              " ('PIPER', 1),\n",
              " ('US', 1),\n",
              " ('NEW', 1),\n",
              " ('DAWN', 1),\n",
              " ('FORESTS', 1),\n",
              " ('LAUGHTER', 1),\n",
              " ('OH-OH-OH-OH-WHOA', 1),\n",
              " ('YOUR', 3),\n",
              " ('HEDGEROW,', 1),\n",
              " ('ALARMED', 1),\n",
              " ('CLEAN', 1),\n",
              " ('QUEEN', 1),\n",
              " ('YES,', 1),\n",
              " ('BY,', 1),\n",
              " ('CHANGE', 1),\n",
              " ('OHH,', 1),\n",
              " ('WHOA', 1),\n",
              " ('HUMMING,', 1),\n",
              " ('GO,', 1),\n",
              " (\"PIPER'S\", 1),\n",
              " ('CALLING', 1),\n",
              " ('JOIN', 1),\n",
              " ('DEAR', 1),\n",
              " ('HEAR', 1),\n",
              " ('BLOW?', 1),\n",
              " ('WHISPERING', 1),\n",
              " ('AS', 1),\n",
              " ('SOUL', 1),\n",
              " ('WHITE', 1),\n",
              " ('LIGHT', 1),\n",
              " ('SHOW', 1),\n",
              " ('HOW', 1),\n",
              " ('EVERYTHING', 1),\n",
              " ('TURNS', 1),\n",
              " ('LISTEN', 1),\n",
              " ('HARD', 1),\n",
              " ('COME', 1),\n",
              " ('LAST', 1),\n",
              " ('ONE', 1),\n",
              " ('ROCK', 1),\n",
              " ('NOT', 1)]"
            ]
          },
          "metadata": {},
          "execution_count": 76
        }
      ]
    },
    {
      "cell_type": "code",
      "source": [
        "from pyspark import SparkContext\n",
        "import re\n",
        "\n",
        "def count_a(word):\n",
        "    return word.lower().count('a')\n",
        "\n",
        "result = (lines\n",
        "          .flatMap(lambda line: re.split(r'[\\s,.\\'\\\";:!?()\\[\\]]+', line))  # podział na słowa\n",
        "          .filter(lambda word: word.strip() != '')  # usuwanie pustych\n",
        "          .map(lambda word: (count_a(word), 1))  # mapa: (liczba 'a' w słowie, 1)\n",
        "          .reduceByKey(lambda x, y: x + y)  # sumowanie po liczbie liter 'a'\n",
        "          .collect())  # zebranie wyniku do drivera\n",
        "\n",
        "# Konwersja wyniku do słownika lub setu (jeśli chcesz)\n",
        "output = set(result)  # lub dict(result)\n",
        "\n",
        "print(output)"
      ],
      "metadata": {
        "colab": {
          "base_uri": "https://localhost:8080/"
        },
        "id": "eAfQK-bYOcwW",
        "outputId": "56c24fc0-4299-46f0-96c9-b69ee9e78280"
      },
      "execution_count": 77,
      "outputs": [
        {
          "output_type": "stream",
          "name": "stdout",
          "text": [
            "{(1, 97), (2, 5), (0, 257)}\n"
          ]
        }
      ]
    }
  ]
}